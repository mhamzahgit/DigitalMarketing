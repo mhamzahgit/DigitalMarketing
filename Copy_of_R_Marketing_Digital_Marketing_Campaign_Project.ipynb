{
  "cells": [
    {
      "cell_type": "markdown",
      "metadata": {
        "id": "n35XOQz6QMVu"
      },
      "source": [
        "\n",
        "\n",
        "*   Exploratory Data Analysis\n",
        "\n",
        "Begin by exploring the dataset, and assessing the distribution of key variables.\n",
        "Identify relationships between key variables.\n",
        "Encode categorical variables appropriately.\n",
        "\n",
        "*   Model Development\n",
        "\n",
        "Develop at least two predictive models to forecast customer conversion.\n",
        "Select appropriate predictive modeling techniques.\n",
        "Split the dataset into training and test sets.\n",
        "Train and validate the model using performance metrics.\n",
        "\n",
        "*   Model Interpretation and Insights (\n",
        "\n",
        "Identify key features influencing conversion.\n",
        "Provide actionable recommendations based on model results.\n",
        "Discuss limitations and potential improvements.\n",
        "\n",
        "*   Final Report and Presentation\n",
        "\n",
        "Compile a comprehensive report detailing your findings, analyses, and recommendations.\n",
        "Create two presentations highlighting key insights and suggested strategies. Use visuals to communicate your findings.\n",
        "\n",
        "\n"
      ]
    },
    {
      "cell_type": "code",
      "execution_count": 1,
      "metadata": {
        "colab": {
          "base_uri": "https://localhost:8080/"
        },
        "id": "2SSVbanqUW8T",
        "outputId": "af11d475-dc58-45f5-9ea6-7c1f5bd68491"
      },
      "outputs": [
        {
          "output_type": "stream",
          "name": "stderr",
          "text": [
            "Installing package into ‘/usr/local/lib/R/site-library’\n",
            "(as ‘lib’ is unspecified)\n",
            "\n"
          ]
        }
      ],
      "source": [
        "install.packages(\"corrplot\")"
      ]
    },
    {
      "cell_type": "code",
      "execution_count": 2,
      "metadata": {
        "colab": {
          "base_uri": "https://localhost:8080/"
        },
        "id": "xEXlNBd1MoFY",
        "outputId": "d7649756-f0ba-4990-8a1c-034c8aa3ac1f"
      },
      "outputs": [
        {
          "output_type": "stream",
          "name": "stderr",
          "text": [
            "Installing package into ‘/usr/local/lib/R/site-library’\n",
            "(as ‘lib’ is unspecified)\n",
            "\n"
          ]
        }
      ],
      "source": [
        "install.packages(\"randomForest\")"
      ]
    },
    {
      "cell_type": "code",
      "execution_count": null,
      "metadata": {
        "colab": {
          "base_uri": "https://localhost:8080/"
        },
        "id": "ioHD20KcS_iZ",
        "outputId": "cf058da2-453f-459e-e20d-6d02356a1669"
      },
      "outputs": [
        {
          "output_type": "stream",
          "name": "stderr",
          "text": [
            "Installing packages into ‘/usr/local/lib/R/site-library’\n",
            "(as ‘lib’ is unspecified)\n",
            "\n",
            "also installing the dependencies ‘listenv’, ‘parallelly’, ‘rbibutils’, ‘future’, ‘globals’, ‘R.methodsS3’, ‘R.oo’, ‘R.utils’, ‘bitops’, ‘Rdpack’, ‘shape’, ‘future.apply’, ‘progressr’, ‘SQUAREM’, ‘R.cache’, ‘caTools’, ‘TH.data’, ‘showimage’, ‘wk’, ‘DEoptimR’, ‘checkmate’, ‘coda’, ‘profileModel’, ‘minqa’, ‘nloptr’, ‘reformulas’, ‘plotrix’, ‘diagram’, ‘lava’, ‘styler’, ‘gplots’, ‘libcoin’, ‘matrixStats’, ‘multcomp’, ‘assertthat’, ‘debugme’, ‘parsedate’, ‘pingr’, ‘webdriver’, ‘viridis’, ‘classInt’, ‘s2’, ‘units’, ‘RcppTOML’, ‘here’, ‘hunspell’, ‘patchwork’, ‘cards’, ‘pcaPP’, ‘robustbase’, ‘som’, ‘lars’, ‘mclust’, ‘sp’, ‘tweenr’, ‘polyclip’, ‘gridExtra’, ‘htmlTable’, ‘colorspace’, ‘Formula’, ‘statnet.common’, ‘rJava’, ‘estimability’, ‘mvtnorm’, ‘numDeriv’, ‘iterators’, ‘clock’, ‘gower’, ‘hardhat’, ‘sparsevctrs’, ‘timeDate’, ‘brglm’, ‘gtools’, ‘lme4’, ‘qvcalc’, ‘rex’, ‘plotmo’, ‘prodlim’, ‘combinat’, ‘questionr’, ‘ROCR’, ‘modeltools’, ‘strucchange’, ‘coin’, ‘zoo’, ‘sandwich’, ‘ROSE’, ‘profmem’, ‘plogr’, ‘lazyeval’, ‘crosstalk’, ‘maps’, ‘hexbin’, ‘ggthemes’, ‘ggalluvial’, ‘shinytest’, ‘Cairo’, ‘webshot’, ‘listviewer’, ‘dendextend’, ‘sf’, ‘png’, ‘plotlyGeoAssets’, ‘palmerpenguins’, ‘reticulate’, ‘rsvg’, ‘reshape2’, ‘spelling’, ‘vdiffr’, ‘ggstats’, ‘plyr’, ‘broom.helpers’, ‘chemometrics’, ‘geosphere’, ‘ggforce’, ‘Hmisc’, ‘igraph’, ‘intergraph’, ‘labelled’, ‘mapproj’, ‘network’, ‘scagnostics’, ‘sna’, ‘emmeans’, ‘e1071’, ‘foreach’, ‘ModelMetrics’, ‘pROC’, ‘recipes’, ‘BradleyTerry2’, ‘covr’, ‘Cubist’, ‘earth’, ‘ellipse’, ‘fastICA’, ‘gam’, ‘ipred’, ‘kernlab’, ‘klaR’, ‘mda’, ‘mlbench’, ‘MLmetrics’, ‘pamr’, ‘party’, ‘pls’, ‘proxy’, ‘RANN’, ‘spls’, ‘superpc’, ‘themis’, ‘bench’, ‘Lahman’, ‘lobstr’, ‘microbenchmark’, ‘nycflights13’, ‘RMySQL’, ‘RPostgreSQL’, ‘RSQLite’, ‘RcppEigen’\n",
            "\n",
            "\n",
            "Warning message in install.packages(c(\"ISLR\", \"plotly\", \"MASS\", \"ggcorrplot\", \"GGally\", :\n",
            "“installation of package ‘rJava’ had non-zero exit status”\n"
          ]
        }
      ],
      "source": [
        "install.packages(\n",
        "  c(\"ISLR\",\"plotly\",\"MASS\",\"ggcorrplot\",\"GGally\",\"caret\",\"dplyr\",\"ranger\",\"cluster\"),\n",
        "  dependencies = TRUE,\n",
        "  repos = \"https://cloud.r-project.org\"\n",
        ")\n",
        "install.packages(\"factoextra\")"
      ]
    },
    {
      "cell_type": "code",
      "execution_count": null,
      "metadata": {
        "collapsed": true,
        "id": "94abeVyTRcyX",
        "colab": {
          "base_uri": "https://localhost:8080/",
          "height": 106
        },
        "outputId": "652d8f9c-289e-4026-867e-74d2b673af05"
      },
      "outputs": [
        {
          "output_type": "error",
          "ename": "ERROR",
          "evalue": "Error in library(caret): there is no package called ‘caret’\n",
          "traceback": [
            "Error in library(caret): there is no package called ‘caret’\nTraceback:\n",
            "1. stop(packageNotFoundError(package, lib.loc, sys.call()))"
          ]
        }
      ],
      "source": [
        "# Import libraries\n",
        "library(tidyverse)\n",
        "library(readr)\n",
        "library(ggplot2)\n",
        "#library(corrplot)\n",
        "library(caret)\n",
        "library(dplyr)\n",
        "library(ranger)\n",
        "library(factoextra)\n",
        "library(cluster)"
      ]
    },
    {
      "cell_type": "markdown",
      "metadata": {
        "id": "K1VjD3G2Q0hp"
      },
      "source": [
        "# 1. Exploratory Data Analysis (Khang & James)\n",
        "### Data Cleaning & Exploratory Analysis\n",
        "\n",
        "*  summary\n",
        "* data type\n",
        "* missing values\n",
        "* duplicate values\n",
        "* Identify Key variables --> plot dist (histogram)\n",
        "* Correlations all\n",
        "* Bar charts (for category cols)\n",
        "*   List item\n",
        "\n"
      ]
    },
    {
      "cell_type": "markdown",
      "metadata": {
        "id": "g3GYzQauyRGR"
      },
      "source": [
        "# Load dataset"
      ]
    },
    {
      "cell_type": "code",
      "execution_count": null,
      "metadata": {
        "id": "ZSukwRVxy-ts"
      },
      "outputs": [],
      "source": [
        "library(googlesheets4)\n",
        "\n",
        "# Google Sheets URL\n",
        "sheet_url <- \"https://docs.google.com/spreadsheets/d/1wnZjAaoGKUAUMKkVmuCXP1XPvkgIkwYbUEzcG9_Qebg/edit?usp=sharing\"\n",
        "\n",
        "# Disable authentication if the sheet is public\n",
        "gs4_deauth()\n",
        "\n",
        "# Read data from Google Sheets\n",
        "Marketing <- read_sheet(sheet_url)\n",
        "\n",
        "# View first few rows of the dataset\n",
        "head(Marketing)"
      ]
    },
    {
      "cell_type": "code",
      "execution_count": null,
      "metadata": {
        "id": "gWJ5F9WazceZ"
      },
      "outputs": [],
      "source": [
        "# Get summary statistics for all numerical variables\n",
        "summary(Marketing)"
      ]
    },
    {
      "cell_type": "code",
      "execution_count": null,
      "metadata": {
        "id": "8r1wvpi3dM7z"
      },
      "outputs": [],
      "source": [
        "# View the shape\n",
        "length(Marketing)"
      ]
    },
    {
      "cell_type": "code",
      "execution_count": null,
      "metadata": {
        "id": "9ANbXP6KsP4S"
      },
      "outputs": [],
      "source": [
        "# Display structure of the dataset\n",
        "str(Marketing)"
      ]
    },
    {
      "cell_type": "code",
      "execution_count": null,
      "metadata": {
        "id": "Xbko8-Iltn_w"
      },
      "outputs": [],
      "source": [
        "# Convert Data Types\n",
        "\n",
        "Marketing <- Marketing %>%\n",
        "  mutate(\n",
        "    CustomerID = as.character(CustomerID),  # Convert ID to chr\n",
        "    Age = as.integer(Age),               # Convert Age to integer\n",
        "    Income = as.integer(Income),         # Convert Income to integer\n",
        "    AdSpend = as.numeric(AdSpend),       # Ensure AdSpend remains numeric\n",
        "    WebsiteVisits = as.integer(WebsiteVisits),  # Convert to integer\n",
        "    SocialShares = as.integer(SocialShares),    # Convert to integer\n",
        "    EmailOpens = as.integer(EmailOpens),\n",
        "    EmailClicks = as.integer(EmailClicks),\n",
        "    PreviousPurchases = as.integer(PreviousPurchases),\n",
        "    LoyaltyPoints = as.integer(LoyaltyPoints),\n",
        "    Conversion = as.factor(Conversion),  # Convert Conversion to factor (0/1)\n",
        "    Gender = as.factor(Gender),          # Convert Gender to factor\n",
        "    CampaignChannel = as.factor(CampaignChannel),  # Convert CampaignChannel to factor\n",
        "    CampaignType = as.factor(CampaignType)        # Convert CampaignType to factor\n",
        "  )\n",
        "\n",
        "# Verify the Changes\n",
        "\n",
        "str(Marketing)  # Check updated data types\n"
      ]
    },
    {
      "cell_type": "code",
      "execution_count": null,
      "metadata": {
        "id": "beyzSBWW8Y3P"
      },
      "outputs": [],
      "source": [
        "head(Marketing)"
      ]
    },
    {
      "cell_type": "code",
      "execution_count": null,
      "metadata": {
        "id": "NApXlKaUXSvx"
      },
      "outputs": [],
      "source": [
        "table(Marketing$Conversion)"
      ]
    },
    {
      "cell_type": "code",
      "execution_count": null,
      "metadata": {
        "id": "rxzNiUYQuOMK"
      },
      "outputs": [],
      "source": [
        "#Check missing value\n",
        "colSums(is.na(Marketing))"
      ]
    },
    {
      "cell_type": "markdown",
      "metadata": {
        "id": "v0YRt5PgvyXb"
      },
      "source": [
        "#Distribution of Key Variables"
      ]
    },
    {
      "cell_type": "markdown",
      "metadata": {
        "id": "AYYd9pND89br"
      },
      "source": []
    },
    {
      "cell_type": "code",
      "execution_count": null,
      "metadata": {
        "id": "JyxUofhVvxuF"
      },
      "outputs": [],
      "source": [
        "# Function to create histograms\n",
        "plot_histogram <- function(data, column, title, binwidth = NULL) {\n",
        "  ggplot(data, aes_string(x = column)) +\n",
        "    geom_histogram(binwidth = binwidth, fill = \"blue\", alpha = 0.6, color = \"black\") +\n",
        "    theme_minimal() +\n",
        "    labs(title = title, x = column, y = \"Count\")\n",
        "}"
      ]
    },
    {
      "cell_type": "code",
      "execution_count": null,
      "metadata": {
        "id": "nOuAgHJywWkm"
      },
      "outputs": [],
      "source": [
        "# Ad Spend Distribution\n",
        "plot_histogram(Marketing, \"AdSpend\", \"Distribution of Ad Spend\", binwidth = 500)"
      ]
    },
    {
      "cell_type": "markdown",
      "metadata": {
        "id": "zKLd6K3v1Hlo"
      },
      "source": [
        "**Observations:**\n",
        "\n",
        "- Range: Ad Spend spans from near 0 up to about 10,000, suggesting a wide variety of spending levels.\n",
        "- Relatively Even Spread: The distribution appears fairly uniform, with no pronounced peak or strong skew.\n",
        "- Slight Dip at Lower Values: There’s a small dip around the lower range (0–1,000), indicating fewer instances of minimal spend.\n",
        "- Potentially Steady Investment: The bulk of the data hovers between 2,000 and 8,000, implying most campaigns allocate a moderate to high spend."
      ]
    },
    {
      "cell_type": "code",
      "execution_count": null,
      "metadata": {
        "id": "mWnr8iqFwkXG"
      },
      "outputs": [],
      "source": [
        "# Click Through Rate (CTR) Distribution\n",
        "plot_histogram(Marketing, \"ClickThroughRate\", \"Distribution of Click-Through Rate\", binwidth = 0.02)"
      ]
    },
    {
      "cell_type": "markdown",
      "metadata": {
        "id": "SV2EJ_Vc1TId"
      },
      "source": [
        "**Observations:**\n",
        "\n",
        "- Range: The Click-Through Rate (CTR) spans from near 0 up to about 0.30.\n",
        "- Fairly Even Spread: There is no sharp peak, suggesting that CTR values are distributed relatively uniformly within this range.\n",
        "- Mild Concentration Around 0.10–0.15: Slightly more data points appear around the mid-range, but overall variation is not extreme.\n",
        "- No Extreme Outliers: The histogram ends around 0.30, indicating that CTR does not exceed 30%."
      ]
    },
    {
      "cell_type": "code",
      "execution_count": null,
      "metadata": {
        "id": "gKtmEzngw3lk"
      },
      "outputs": [],
      "source": [
        "# Website Visits Distribution\n",
        "plot_histogram(Marketing, \"WebsiteVisits\", \"Distribution of Website Visits\", binwidth = 2)"
      ]
    },
    {
      "cell_type": "markdown",
      "metadata": {
        "id": "LOo6K6JZ2k4P"
      },
      "source": [
        "**Observations:**\n",
        "\n",
        "- Range: Website Visits span from 0 to about 50.\n",
        "- Fairly Even Spread: The histogram shows a relatively uniform distribution, with no single dominant peak.\n",
        "- Mild Concentration Around Mid-Range: Slightly more visits occur between about 15 and 35, though the overall variation is not extreme.\n",
        "- No Extreme Outliers: The data caps at 49 visits, indicating most visitors fall within a moderate range of site engagement."
      ]
    },
    {
      "cell_type": "code",
      "execution_count": null,
      "metadata": {
        "id": "oxj_EDshxUy7"
      },
      "outputs": [],
      "source": [
        "# Income Distribution\n",
        "plot_histogram(Marketing, \"Income\", \"Distribution of Income\", binwidth = 5000)"
      ]
    },
    {
      "cell_type": "markdown",
      "metadata": {
        "id": "gVcboH6I3b23"
      },
      "source": [
        "**Observations:**\n",
        "\n",
        "- Range: Income varies roughly from $20000 to $150000, indicating a broad spectrum of financial backgrounds.\n",
        "- Slight Concentration Around Mid-Range: A large portion of individuals fall between $40,000 and $80,000.\n",
        "- Dip Toward Upper Income Levels: Fewer individuals earn beyond $120,000.\n",
        "- No Sharp Peak: The distribution is relatively spread out, with mild fluctuations across the mid-range."
      ]
    },
    {
      "cell_type": "code",
      "execution_count": null,
      "metadata": {
        "id": "J-gW0MwExXU5"
      },
      "outputs": [],
      "source": [
        "# Loyalty Points Distribution\n",
        "plot_histogram(Marketing, \"LoyaltyPoints\", \"Distribution of Loyalty Points\", binwidth = 200)"
      ]
    },
    {
      "cell_type": "markdown",
      "metadata": {
        "id": "REBP4X3Z3rzM"
      },
      "source": [
        "**Observations:**\n",
        "\n",
        "- Range: Loyalty Points span from 0 up to about 5,000.\n",
        "- Fairly Uniform Distribution: No single peak dominates, though there’s a slight dip at the lower end (0–500).\n",
        "- Moderate Variations Across the Range: Mild fluctuations occur, but overall the values are spread evenly between 500 and 4,500.\n",
        "- No Extreme Outliers: The data caps at 5,000, indicating a clear upper limit for points earned."
      ]
    },
    {
      "cell_type": "code",
      "execution_count": null,
      "metadata": {
        "id": "YiWCZwvO2LFw"
      },
      "outputs": [],
      "source": [
        "options(repr.plot.width=12, repr.plot.height=10)  # Adjust width and height as needed"
      ]
    },
    {
      "cell_type": "markdown",
      "metadata": {
        "id": "NtQJevAm0DZT"
      },
      "source": [
        "# **1.2 Bivariate Visualizations**"
      ]
    },
    {
      "cell_type": "code",
      "execution_count": null,
      "metadata": {
        "collapsed": true,
        "id": "6s1FA_h1znkL"
      },
      "outputs": [],
      "source": [
        "install.packages(\"ggcorrplot\")\n",
        "library(ggcorrplot)\n",
        "# Ensure 'Marketing' dataset is available and contains numeric variables\n",
        "numeric_vars <- Marketing %>% select_if(is.numeric)\n",
        "\n",
        "# Compute correlation matrix\n",
        "corr_matrix <- cor(numeric_vars, use = \"complete.obs\")\n",
        "\n",
        "# Heatmap with explicit color mapping\n",
        "ggcorrplot(\n",
        "  corr_matrix,\n",
        "  hc.order = TRUE,          # Order by hierarchical clustering\n",
        "  type = \"lower\",           # Show lower triangle\n",
        "  lab = TRUE,               # Show correlation values\n",
        "  lab_size = 5,             # Adjust label size for correlation values\n",
        "  colors = c(\"#6D9EC1\", \"white\", \"#E46726\"), # Explicit color scheme\n",
        "  outline.color = \"black\",  # Add black border for clarity\n",
        "  insig = \"blank\",          # Remove insignificant correlations\n",
        "  title = \"Correlation Heatmap\", # Optional: Add a title\n",
        "  ggtheme = ggplot2::theme_gray() +  # Set a theme for the plot\n",
        "    theme(\n",
        "      axis.text.x = element_text(size = 30),  # Increase x-tick label size\n",
        "      axis.text.y = element_text(size = 30),  # Increase y-tick label size\n",
        "      plot.title = element_text(size = 30)     # Increase plot title size\n",
        "    )\n",
        ")"
      ]
    },
    {
      "cell_type": "markdown",
      "metadata": {
        "id": "ZS4mFtIQGGHc"
      },
      "source": [
        "--> The correlation heatmap shows no high-corrlated variables which is good for modeling in the future. We will also using Stepwise to eliminate unsignificant variables later."
      ]
    },
    {
      "cell_type": "markdown",
      "metadata": {
        "id": "Y6qEul0ZHU0V"
      },
      "source": [
        "## Gender Count"
      ]
    },
    {
      "cell_type": "code",
      "execution_count": null,
      "metadata": {
        "id": "R-PXmlHDHLIf"
      },
      "outputs": [],
      "source": [
        "gender_count <- Marketing %>%\n",
        "  group_by(Gender) %>%\n",
        "  summarise(Count = n(), .groups = 'drop') %>%\n",
        "  mutate(Percentage = (Count / sum(Count)) * 100)\n",
        "\n",
        "gender_count"
      ]
    },
    {
      "cell_type": "code",
      "execution_count": null,
      "metadata": {
        "id": "V8GDw2JvYxfQ"
      },
      "outputs": [],
      "source": [
        "# Line Plot for Average Conversion Rate by Age\n",
        "ggplot(data = Marketing, aes(x = Age, y = ConversionRate)) +\n",
        "  geom_line(stat = \"summary\", fun = \"mean\", color = \"steelblue\", size = 1) +\n",
        "  labs(title = \"Average Conversion Rate by Age\", x = \"Age\", y = \"Average Conversion Rate\") +\n",
        "  theme_minimal() +\n",
        "  theme(axis.title.x = element_text(size = 14), axis.title.y = element_text(size = 14))"
      ]
    },
    {
      "cell_type": "markdown",
      "metadata": {
        "id": "2SESVvTvAACP"
      },
      "source": [
        "## TimeOnSite vs Gender (Age)"
      ]
    },
    {
      "cell_type": "code",
      "execution_count": null,
      "metadata": {
        "id": "AzLylaFQYx6F"
      },
      "outputs": [],
      "source": [
        "\n",
        "# Create age groups for better visualization\n",
        "Marketing$AgeGroup <- cut(Marketing$Age, breaks = seq(0, 100, by = 10), right = FALSE)\n",
        "\n",
        "# Calculate total average TimeOnSite by Gender and Age Group\n",
        "time_on_site_gender_age <- Marketing %>%\n",
        "  group_by(AgeGroup, Gender) %>%\n",
        "  summarise(TotalAverageTimeOnSite = sum(TimeOnSite, na.rm = TRUE), .groups = 'drop')\n",
        "\n",
        "# Create the bar chart\n",
        "ggplot(data = time_on_site_gender_age, aes(x = AgeGroup, y = TotalAverageTimeOnSite, fill = Gender)) +\n",
        "  geom_bar(stat = \"identity\", position = \"dodge\") +\n",
        "  geom_text(aes(label = round(TotalAverageTimeOnSite, 0)),  # Round to 0 decimal points\n",
        "            position = position_dodge(width = 0.9),\n",
        "            vjust = -0.5,\n",
        "            size = 5) +  # Adjust size of the text\n",
        "  labs(title = \"Total Avg on Site by Gender and Age Group\",\n",
        "       x = \"Age Group\",\n",
        "       y = \"Total Avg Time on Site (minutes)\") +\n",
        "  theme_minimal() +\n",
        "  theme(\n",
        "    axis.title.x = element_text(size = 25),  # Increase x-axis label size\n",
        "    axis.title.y = element_text(size = 25),  # Increase y-axis label size\n",
        "    axis.text.x = element_text(size = 25),   # Increase x-tick label size\n",
        "    axis.text.y = element_text(size = 25)    # Increase y-tick label size\n",
        "  )"
      ]
    },
    {
      "cell_type": "markdown",
      "metadata": {
        "id": "2cpwqvmeA37a"
      },
      "source": [
        "\n",
        "## COnversion vs cpgtype (count facet)"
      ]
    },
    {
      "cell_type": "code",
      "execution_count": null,
      "metadata": {
        "id": "t2c7lkYrHfSm"
      },
      "outputs": [],
      "source": [
        "# Create a bar plot for Conversion with facets by CampaignType\n",
        "ggplot(data = Marketing, aes(x = Conversion)) +\n",
        "  geom_bar(aes(y = ..count..), fill = \"steelblue\", color = \"black\") +  # Adjust colors as needed\n",
        "  facet_wrap(~CampaignType) +  # Create facets for each CampaignType\n",
        "  labs(title = \"Conversion Count by Campaign Type\", x = \"Conversion\", y = \"Count\") +  # Add labels\n",
        "  theme(\n",
        "    axis.title.x = element_text(size = 30),  # Increase x-axis label size\n",
        "    axis.title.y = element_text(size = 30),  # Increase y-axis label size\n",
        "    axis.text.x = element_text(size = 25),   # Increase x-tick label size\n",
        "    axis.text.y = element_text(size = 25),   # Increase y-tick label size\n",
        "    strip.text = element_text(size = 20),     # Increase facet label size\n",
        "    plot.title = element_text(size = 26)      # Increase plot title size\n",
        "  ) +\n",
        "  geom_text(stat = \"count\", aes(label = ..count..), vjust = -0.5, size = 4) +  # Add data labels above bars\n",
        "  coord_cartesian(clip = 'off')  # Ensure labels are not clipped"
      ]
    },
    {
      "cell_type": "markdown",
      "metadata": {
        "id": "PtMeT2FnNmdJ"
      },
      "source": [
        "## Bar chart Normal"
      ]
    },
    {
      "cell_type": "code",
      "execution_count": null,
      "metadata": {
        "id": "W6YAllooNoJn"
      },
      "outputs": [],
      "source": [
        "mkt.sum <- summarise(group_by(Marketing, CampaignChannel), total_shares = sum(SocialShares))\n",
        "\n",
        "View(mkt.sum)\n",
        "\n",
        "ggplot(data = mkt.sum, aes(x=CampaignChannel, y = total_shares)) +\n",
        "  geom_bar(stat = \"identity\",fill = \"steelblue\", color = \"black\")+\n",
        "  theme(\n",
        "    axis.title.x = element_text(size = 30),  # Increase x-axis label size\n",
        "    axis.title.y = element_text(size = 30),  # Increase y-axis label size\n",
        "    axis.text.x = element_text(size = 25),   # Increase x-tick label size\n",
        "    axis.text.y = element_text(size = 25),   # Increase y-tick label size\n",
        "    strip.text = element_text(size = 20),     # Increase facet label size\n",
        "    plot.title = element_text(size = 26)      # Increase plot title size\n",
        "  )"
      ]
    },
    {
      "cell_type": "markdown",
      "metadata": {
        "id": "HD0-hVKxBfHl"
      },
      "source": [
        "## Bar Chart (Channel vs CTR by Gender)"
      ]
    },
    {
      "cell_type": "code",
      "execution_count": null,
      "metadata": {
        "id": "oc8dGueUTrMF"
      },
      "outputs": [],
      "source": [
        "mkt.agg <- Marketing %>%\n",
        "  group_by(CampaignChannel, Gender) %>%\n",
        "  summarise(total_CTR = sum(ClickThroughRate), .groups = 'drop')  # Drop grouping after summarising\n",
        "\n",
        "# Create the bar plot\n",
        "ggplot(data = mkt.agg, aes(x = CampaignChannel, y = total_CTR, fill = Gender)) +\n",
        "  geom_bar(stat = \"identity\", position = \"dodge\", color = \"black\") +\n",
        "  geom_text(aes(label = round(total_CTR, 0)), position = position_dodge(width = 0.9), vjust = -0.5, size = 5) +  # Add rounded data labels above bars\n",
        "  theme(\n",
        "    axis.title.x = element_text(size = 30),  # Increase x-axis label size\n",
        "    axis.title.y = element_text(size = 30),  # Increase y-axis label size\n",
        "    axis.text.x = element_text(size = 25),   # Increase x-tick label size\n",
        "    axis.text.y = element_text(size = 25),   # Increase y-tick label size\n",
        "    strip.text = element_text(size = 20),     # Increase facet label size\n",
        "    plot.title = element_text(size = 26),     # Increase plot title size\n",
        "    legend.title = element_text(size = 20),   # Increase legend title size\n",
        "    legend.text = element_text(size = 20)      # Increase legend text size\n",
        "  ) +\n",
        "  labs(fill = \"Gender\")  # Optional: Set legend title"
      ]
    },
    {
      "cell_type": "markdown",
      "metadata": {
        "id": "L0fbqxaZbmsV"
      },
      "source": [
        "## ANOVA"
      ]
    },
    {
      "cell_type": "code",
      "execution_count": null,
      "metadata": {
        "id": "N9lLMmA0cAJi"
      },
      "outputs": [],
      "source": [
        "#Excercise: conduct ANOVA to compare the mean AdSpend by CampaignChannel and Gender\n",
        "\n",
        "options(scipen = 999)\n",
        "summary(aov(Income ~ CampaignType + Gender, data = Marketing))"
      ]
    },
    {
      "cell_type": "markdown",
      "metadata": {
        "id": "n0dOo8uBLd4b"
      },
      "source": [
        "## Feedback from Prof.\n",
        "- Conversions/ConversionRate with Gender or Campaign Channel"
      ]
    },
    {
      "cell_type": "markdown",
      "metadata": {
        "id": "cQp4hlmfQ4ny"
      },
      "source": [
        "# 2. Model Development"
      ]
    },
    {
      "cell_type": "markdown",
      "metadata": {
        "id": "65LlT2iMz6iI"
      },
      "source": [
        ":# **1.3 Encode Categorical Variables for Modeling**"
      ]
    },
    {
      "cell_type": "code",
      "execution_count": null,
      "metadata": {
        "id": "XOzhYyDiz2A9"
      },
      "outputs": [],
      "source": [
        "# Separate predictors and target\n",
        "predictors <- Marketing %>% select(-Conversion)\n",
        "target <- Marketing$Conversion\n",
        "\n",
        "# Convert categorical columns into factor type\n",
        "Marketing$Conversion <- factor(Marketing$Conversion, levels = c(0, 1))\n",
        "\n",
        "# One-hot encoding using model.matrix\n",
        "encoded_predictors <- predictors %>%\n",
        "  mutate(across(where(is.factor), as.integer))\n",
        "\n",
        "head(encoded_predictors)\n",
        "\n",
        "Marketing_encoded <- data.frame(encoded_predictors, Conversion = target)\n",
        "\n",
        "head(Marketing_encoded)"
      ]
    },
    {
      "cell_type": "code",
      "execution_count": null,
      "metadata": {
        "id": "puM4Lri0MU6g"
      },
      "outputs": [],
      "source": [
        "set.seed(1234)"
      ]
    },
    {
      "cell_type": "markdown",
      "metadata": {
        "id": "5mr6AR7QPKiC"
      },
      "source": [
        "## Partition the Data"
      ]
    },
    {
      "cell_type": "code",
      "execution_count": null,
      "metadata": {
        "id": "3i6e_tPP2ZQt"
      },
      "outputs": [],
      "source": [
        "marketing_subset = subset(Marketing_encoded, select = -c(CustomerID) ) ##Remove unique identifier column"
      ]
    },
    {
      "cell_type": "code",
      "execution_count": null,
      "metadata": {
        "id": "nN6k9hUVD1GK"
      },
      "outputs": [],
      "source": [
        "# Set the sizes of the test and training samples.\n",
        "# We use 20% of the data for testing:\n",
        "n <- nrow(marketing_subset)\n",
        "ntest <- round(0.2*n)\n",
        "ntrain <- n - ntest\n",
        "\n",
        "# Split the data into two sets:\n",
        "train_rows <- sample(1:n, ntrain)\n",
        "marketing_train <- marketing_subset[train_rows,]\n",
        "marketing_test <- marketing_subset[-train_rows,]"
      ]
    },
    {
      "cell_type": "code",
      "execution_count": null,
      "metadata": {
        "id": "R6jYTHduPOB0"
      },
      "outputs": [],
      "source": [
        "preProcValues <- preProcess(marketing_subset, method = c(\"range\")) ##Uses column minimums & maximums to normalize values around 0 using original data\n",
        "\n",
        "marketing_train_norm <- predict(preProcValues, marketing_train) #Using the normalizing object, normalize the rows in the dataframe and save it new to a new one\n",
        "marketing_test_norm <- predict(preProcValues, marketing_test) #Using the normalizing object, normalize the rows in the dataframe and save it new to a new one"
      ]
    },
    {
      "cell_type": "code",
      "execution_count": null,
      "metadata": {
        "id": "k0jkEdqeK3m6"
      },
      "outputs": [],
      "source": [
        "head(marketing_train_norm)\n",
        "head(marketing_test_norm)"
      ]
    },
    {
      "cell_type": "code",
      "execution_count": null,
      "metadata": {
        "id": "yo3glUMkSi78"
      },
      "outputs": [],
      "source": [
        "colSums(is.na(marketing_test_norm))"
      ]
    },
    {
      "cell_type": "markdown",
      "metadata": {
        "id": "biILb4QuPb5r"
      },
      "source": [
        "## K Means Clustering"
      ]
    },
    {
      "cell_type": "code",
      "execution_count": null,
      "metadata": {
        "id": "eGL2zDKjSdhf"
      },
      "outputs": [],
      "source": [
        "marketing_subset = subset(Marketing_encoded, select = -c(CustomerID) ) ##Remove unique identifier column\n",
        "preProcValues <- preProcess(marketing_subset, method = c(\"range\")) ##Uses column minimums & maximums to normalize values around 0 using original data\n",
        "marketing_normalized <- predict(preProcValues, marketing_subset) #Using the normalizing object, normalize the rows in the dataframe and save it new to a new one\n",
        "head(marketing_normalized)"
      ]
    },
    {
      "cell_type": "code",
      "execution_count": null,
      "metadata": {
        "id": "MuNX8S4cPfMi"
      },
      "outputs": [],
      "source": [
        "fviz_nbclust(marketing_normalized, kmeans, method = \"wss\") + labs(subtitle = \"Choosing the Optimal k\") +ylim(0,15000) ##Plot the within-cluster sum of squares as a function of the number of clusters to determine the optimal k"
      ]
    },
    {
      "cell_type": "code",
      "execution_count": null,
      "metadata": {
        "id": "Ll1QpZ53aDX8"
      },
      "outputs": [],
      "source": [
        "fviz_nbclust(marketing_normalized, kmeans, method = \"silhouette\") +\n",
        "  labs(subtitle = \"Silhouette Method\")"
      ]
    },
    {
      "cell_type": "code",
      "execution_count": null,
      "metadata": {
        "id": "8e2xTllnPhxt"
      },
      "outputs": [],
      "source": [
        "kmeans_5 <- kmeans(marketing_normalized, 5, nstart=25)\n",
        "kmeans_5"
      ]
    },
    {
      "cell_type": "code",
      "execution_count": null,
      "metadata": {
        "id": "uvA5WDDpPjJz"
      },
      "outputs": [],
      "source": [
        "kmeans_5$betweenss #Returns the between cluster sum of squares\n",
        "kmeans_5$totss #Returns total sum of squares; total variance in the data"
      ]
    },
    {
      "cell_type": "code",
      "execution_count": null,
      "metadata": {
        "id": "kfl_-rWfPkqg"
      },
      "outputs": [],
      "source": [
        "explained_variance_5 <- kmeans_5$betweenss/kmeans_5$totss #Calculates the explained variance/ goodness of fit; 1 being best, 0 being worst\n",
        "explained_variance_5"
      ]
    },
    {
      "cell_type": "code",
      "execution_count": null,
      "metadata": {
        "id": "XNEKF8voPmCD"
      },
      "outputs": [],
      "source": [
        "kmeans_5$size #Return size of all of the clusters\n",
        "kmeans_5$centers #Return cluster centroids"
      ]
    },
    {
      "cell_type": "code",
      "execution_count": null,
      "metadata": {
        "id": "HxTFXGM7PoKQ"
      },
      "outputs": [],
      "source": [
        "kmeans_5$withinss #Returns the within cluster sum of squares for each cluster"
      ]
    },
    {
      "cell_type": "code",
      "execution_count": null,
      "metadata": {
        "id": "qLeIBBZTPpZf"
      },
      "outputs": [],
      "source": [
        "# Convert all columns in marketing_normalized to numeric if they are not already\n",
        "marketing_normalized <- marketing_normalized %>%\n",
        "  mutate(across(where(is.factor), ~ as.numeric(as.character(.)))) # Convert factor to numeric\n",
        "marketing_normalized <- marketing_normalized %>%\n",
        "  mutate(across(where(is.character), ~ as.numeric(.))) # Convert character to numeric\n",
        "\n",
        "\n",
        "# Continue with your clustering and visualization\n",
        "fviz_cluster(kmeans_5, marketing_normalized) #Plots the clusters to visually inspect overlap"
      ]
    },
    {
      "cell_type": "code",
      "execution_count": null,
      "metadata": {
        "id": "GmRcyUyLPqLI"
      },
      "outputs": [],
      "source": [
        "# Assuming 'kmeans_7' is your kmeans object and 'Marketing' is your original dataframe\n",
        "\n",
        "# Add cluster assignments to the original dataframe\n",
        "marketing_normalized$cluster <- kmeans_5$cluster\n",
        "\n",
        "# Set the sizes of the test and training samples.\n",
        "# We use 20% of the data for testing:\n",
        "n <- nrow(marketing_normalized)\n",
        "ntest <- round(0.2*n)\n",
        "ntrain <- n - ntest\n",
        "\n",
        "# Split the data into two sets:\n",
        "train_rows <- sample(1:n, ntrain)\n",
        "marketing_train_norm <- marketing_normalized[train_rows,]\n",
        "marketing_test_norm <- marketing_normalized[-train_rows,]"
      ]
    },
    {
      "cell_type": "markdown",
      "metadata": {
        "id": "3CgVinViJJOd"
      },
      "source": [
        "## Logistic Regression"
      ]
    },
    {
      "cell_type": "code",
      "execution_count": null,
      "metadata": {
        "id": "iSNoZqj7coEQ"
      },
      "outputs": [],
      "source": [
        "head(marketing_normalized)"
      ]
    },
    {
      "cell_type": "code",
      "execution_count": null,
      "metadata": {
        "id": "-t6C0d1qcml5"
      },
      "outputs": [],
      "source": [
        "# Run logistic regression with marketing dataset\n",
        "fit.logit <- glm(Conversion ~ AdSpend+PagesPerVisit, data = marketing_normalized, family = binomial)\n",
        "summary(fit.logit)"
      ]
    },
    {
      "cell_type": "code",
      "execution_count": null,
      "metadata": {
        "id": "1iF4PlWNqaAX"
      },
      "outputs": [],
      "source": [
        "fit.logit <- glm(Conversion ~ ., data = marketing_train_norm, family = binomial)\n",
        "summary(fit.logit)"
      ]
    },
    {
      "cell_type": "code",
      "execution_count": null,
      "metadata": {
        "id": "W_WtvDNCFQ0e"
      },
      "outputs": [],
      "source": [
        "pred.logit = predict(fit.logit, marketing_test_norm, type = \"response\") ##predict the model using the test set\n",
        "hist(pred.logit) ##visualize the distribution of predicted values\n",
        "\n",
        "summary(pred.logit) ##check the distribution of predicted values"
      ]
    },
    {
      "cell_type": "code",
      "execution_count": null,
      "metadata": {
        "id": "VAAyXdxyGKoB"
      },
      "outputs": [],
      "source": [
        "# #Choose 0.5 as the threshold for predicting default customers:\n",
        "marketing_test_norm$Conversion.logit = ifelse(pred.logit>0.5,\"1\",\"0\")\n",
        "table(marketing_test_norm$Conversion.logit)"
      ]
    },
    {
      "cell_type": "code",
      "execution_count": null,
      "metadata": {
        "id": "gnD6LJ8iGNow"
      },
      "outputs": [],
      "source": [
        "# #Check the accuracy of our prediction\n",
        "class.lm = xtabs(~ Conversion + Conversion.logit, data = marketing_test_norm)\n",
        "class.lm ##show the confusion matrix table"
      ]
    },
    {
      "cell_type": "code",
      "execution_count": null,
      "metadata": {
        "id": "ub0S152CGQfC"
      },
      "outputs": [],
      "source": [
        "print(paste0(\"The overall accuracy of the model is: \",mean(marketing_test_norm$Conversion==marketing_test_norm$Conversion.logit)))"
      ]
    },
    {
      "cell_type": "code",
      "execution_count": null,
      "metadata": {
        "id": "BBI5w-iwGSP4"
      },
      "outputs": [],
      "source": [
        "print(paste0(\"The accuracy of predicting default customers is: \",mean(marketing_test_norm$Conversion[marketing_test_norm$Conversion==\"1\"]==marketing_test_norm$Conversion.logit[marketing_test_norm$Conversion==\"1\"])))"
      ]
    },
    {
      "cell_type": "markdown",
      "metadata": {
        "id": "0FJTJOOUJM-p"
      },
      "source": [
        "## K-Nearest Neighbors"
      ]
    },
    {
      "cell_type": "code",
      "execution_count": null,
      "metadata": {
        "id": "VjrFXd1zLBP5"
      },
      "outputs": [],
      "source": [
        "ctrl <- trainControl(method=\"repeatedcv\",repeats = 3)  #Set training parameters\n",
        "knnFit <- train(Conversion ~ ., data = marketing_train_norm, method = \"knn\", trControl = ctrl, tuneLength = 20) #Test various values of k on normalized training data.\n",
        "knnFit ##Displays the relative performance of different values of k\n",
        "plot(knnFit) #Plot the accuracy of various k values"
      ]
    },
    {
      "cell_type": "code",
      "execution_count": null,
      "metadata": {
        "id": "FkhqzkMyLI48"
      },
      "outputs": [],
      "source": [
        "knn_test_predictions <- predict(knnFit,newdata = marketing_test_norm,type = \"raw\") #Generate validation data predictions"
      ]
    },
    {
      "cell_type": "code",
      "execution_count": null,
      "metadata": {
        "id": "k-LE48y5z3hi"
      },
      "outputs": [],
      "source": [
        "table(marketing_test_norm$Conversion)"
      ]
    },
    {
      "cell_type": "code",
      "execution_count": null,
      "metadata": {
        "id": "v0r5SbP9L-5a"
      },
      "outputs": [],
      "source": [
        "# Convert predictions to factor with the same levels as marketing_test$Conversion\n",
        "knn_test_predictions <- factor(knn_test_predictions, levels = levels(marketing_test$Conversion))\n",
        "\n",
        "confusionMatrix(knn_test_predictions, marketing_test$Conversion,positive=\"1\") ##kNN validation predictions"
      ]
    },
    {
      "cell_type": "markdown",
      "metadata": {
        "id": "PmT_gNztJR37"
      },
      "source": [
        "## Random Forest"
      ]
    },
    {
      "cell_type": "code",
      "execution_count": null,
      "metadata": {
        "id": "Z1HHGlKtLRk7"
      },
      "outputs": [],
      "source": [
        "library(randomForest)\n",
        "set.seed(12345)\n",
        "fit.rf = randomForest(Conversion ~ ., data=marketing_train, ntree=400, importance = TRUE)\n",
        "fit.rf"
      ]
    },
    {
      "cell_type": "code",
      "execution_count": null,
      "metadata": {
        "id": "3Ti6hivGLXyf"
      },
      "outputs": [],
      "source": [
        "#Apply the random forest to the test data\n",
        "pred.rf <- predict(fit.rf, marketing_test)\n",
        "marketing_test$Conversion.rf = pred.rf\n",
        "class.rf = xtabs(~ Conversion + Conversion.rf, data = marketing_test)\n",
        "class.rf ##show the confusion matrix table"
      ]
    },
    {
      "cell_type": "code",
      "execution_count": null,
      "metadata": {
        "id": "__kOjmx1Lr8w"
      },
      "outputs": [],
      "source": [
        "# Add cluster assignments to marketing_test\n",
        "marketing_test$cluster <- marketing_normalized$cluster[match(rownames(marketing_test), rownames(marketing_normalized))]\n",
        "\n",
        "clusplot(marketing_test[ ,c(\"AdSpend\",\"Gender\",\"cluster\")], pred.rf, color = TRUE, shade = TRUE, labels =  4, lines = 0, main = \"Random Forest Classes, test data\")"
      ]
    },
    {
      "cell_type": "code",
      "execution_count": null,
      "metadata": {
        "id": "w3P6tKHCGgdY"
      },
      "outputs": [],
      "source": [
        "#variable importance\n",
        "varImpPlot(fit.rf, main = \"Variable importance by default\")"
      ]
    },
    {
      "cell_type": "code",
      "execution_count": null,
      "metadata": {
        "id": "UBYnEWkKGiOh"
      },
      "outputs": [],
      "source": [
        "print(paste0(\"The overall accuracy of the model is: \",mean(marketing_test$Conversion==marketing_test$Conversion.rf)))"
      ]
    },
    {
      "cell_type": "code",
      "execution_count": null,
      "metadata": {
        "id": "L8l0MGZYGkja"
      },
      "outputs": [],
      "source": [
        "print(paste0(\"The accuracy of predicting converting customers is: \",mean(marketing_test$Conversion[marketing_test$Conversion==\"1\"]==marketing_test$Conversion.rf[marketing_test$Conversion==\"1\"])))"
      ]
    },
    {
      "cell_type": "markdown",
      "metadata": {
        "id": "YKUXr-XOQ8_4"
      },
      "source": [
        "# 3. Model Interpretation & Insights"
      ]
    }
  ],
  "metadata": {
    "colab": {
      "collapsed_sections": [
        "g3GYzQauyRGR",
        "v0YRt5PgvyXb",
        "NtQJevAm0DZT"
      ],
      "provenance": []
    },
    "kernelspec": {
      "display_name": "R",
      "name": "ir"
    },
    "language_info": {
      "name": "R"
    }
  },
  "nbformat": 4,
  "nbformat_minor": 0
}